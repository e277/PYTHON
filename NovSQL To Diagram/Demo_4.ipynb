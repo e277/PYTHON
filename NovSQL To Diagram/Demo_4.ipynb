{
 "cells": [
  {
   "cell_type": "code",
   "execution_count": 12,
   "id": "9de9d847",
   "metadata": {},
   "outputs": [],
   "source": [
    "import numpy as np\n",
    "import pandas as pd\n",
    "import matplotlib.pyplot as plt\n",
    "%matplotlib inline"
   ]
  },
  {
   "cell_type": "code",
   "execution_count": 13,
   "id": "be0b02f5",
   "metadata": {},
   "outputs": [
    {
     "data": {
      "text/html": [
       "<div>\n",
       "<style scoped>\n",
       "    .dataframe tbody tr th:only-of-type {\n",
       "        vertical-align: middle;\n",
       "    }\n",
       "\n",
       "    .dataframe tbody tr th {\n",
       "        vertical-align: top;\n",
       "    }\n",
       "\n",
       "    .dataframe thead th {\n",
       "        text-align: right;\n",
       "    }\n",
       "</style>\n",
       "<table border=\"1\" class=\"dataframe\">\n",
       "  <thead>\n",
       "    <tr style=\"text-align: right;\">\n",
       "      <th></th>\n",
       "      <th>id</th>\n",
       "      <th>tran_dt</th>\n",
       "      <th>tran_amt</th>\n",
       "      <th>cust_id</th>\n",
       "      <th>acc_id</th>\n",
       "      <th>loan_id</th>\n",
       "    </tr>\n",
       "  </thead>\n",
       "  <tbody>\n",
       "    <tr>\n",
       "      <th>0</th>\n",
       "      <td>2</td>\n",
       "      <td>2021-12-31</td>\n",
       "      <td>100001.0</td>\n",
       "      <td>1</td>\n",
       "      <td>1</td>\n",
       "      <td>NaN</td>\n",
       "    </tr>\n",
       "    <tr>\n",
       "      <th>1</th>\n",
       "      <td>3</td>\n",
       "      <td>2022-02-23</td>\n",
       "      <td>6000.0</td>\n",
       "      <td>1</td>\n",
       "      <td>1</td>\n",
       "      <td>NaN</td>\n",
       "    </tr>\n",
       "    <tr>\n",
       "      <th>2</th>\n",
       "      <td>4</td>\n",
       "      <td>2015-06-19</td>\n",
       "      <td>700.0</td>\n",
       "      <td>1</td>\n",
       "      <td>1</td>\n",
       "      <td>NaN</td>\n",
       "    </tr>\n",
       "    <tr>\n",
       "      <th>3</th>\n",
       "      <td>5</td>\n",
       "      <td>2022-08-31</td>\n",
       "      <td>90.0</td>\n",
       "      <td>2</td>\n",
       "      <td>2</td>\n",
       "      <td>2.0</td>\n",
       "    </tr>\n",
       "    <tr>\n",
       "      <th>4</th>\n",
       "      <td>6</td>\n",
       "      <td>2020-10-30</td>\n",
       "      <td>300.0</td>\n",
       "      <td>3</td>\n",
       "      <td>3</td>\n",
       "      <td>2.0</td>\n",
       "    </tr>\n",
       "    <tr>\n",
       "      <th>5</th>\n",
       "      <td>7</td>\n",
       "      <td>2015-06-25</td>\n",
       "      <td>200.0</td>\n",
       "      <td>3</td>\n",
       "      <td>3</td>\n",
       "      <td>2.0</td>\n",
       "    </tr>\n",
       "  </tbody>\n",
       "</table>\n",
       "</div>"
      ],
      "text/plain": [
       "   id     tran_dt  tran_amt  cust_id  acc_id  loan_id\n",
       "0   2  2021-12-31  100001.0        1       1      NaN\n",
       "1   3  2022-02-23    6000.0        1       1      NaN\n",
       "2   4  2015-06-19     700.0        1       1      NaN\n",
       "3   5  2022-08-31      90.0        2       2      2.0\n",
       "4   6  2020-10-30     300.0        3       3      2.0\n",
       "5   7  2015-06-25     200.0        3       3      2.0"
      ]
     },
     "execution_count": 13,
     "metadata": {},
     "output_type": "execute_result"
    }
   ],
   "source": [
    "df = df = pd.read_csv('C:/Users/Ezra Muir/Documents/Training-Work/Python/Nov_Learn/SQL To Diagram/transaction.csv')\n",
    "df"
   ]
  },
  {
   "cell_type": "code",
   "execution_count": 14,
   "id": "0f3801d2",
   "metadata": {},
   "outputs": [
    {
     "data": {
      "text/plain": [
       "([<matplotlib.patches.Wedge at 0x1e12ceaefa0>,\n",
       "  <matplotlib.patches.Wedge at 0x1e12cebe4c0>,\n",
       "  <matplotlib.patches.Wedge at 0x1e12cebe9a0>,\n",
       "  <matplotlib.patches.Wedge at 0x1e12cebee80>,\n",
       "  <matplotlib.patches.Wedge at 0x1e12ce753a0>,\n",
       "  <matplotlib.patches.Wedge at 0x1e12ce75880>],\n",
       " [Text(1.0554422683381766, 0.30990582150899426, '2021-12-31'),\n",
       "  Text(0.7203467861122989, 0.8313245501834299, '2022-02-23'),\n",
       "  Text(0.15654627576372776, 1.0888035927312634, '2015-06-19'),\n",
       "  Text(-0.7203468639465174, 0.8313244827396927, '2022-08-31'),\n",
       "  Text(-0.9253788203103135, -0.5947050015941457, '2020-10-30'),\n",
       "  Text(0.7203469417807291, -0.8313244152959488, '2015-06-25')])"
      ]
     },
     "execution_count": 14,
     "metadata": {},
     "output_type": "execute_result"
    },
    {
     "data": {
      "image/png": "[encoded data removed]",
      "text/plain": [
       "<Figure size 432x288 with 1 Axes>"
      ]
     },
     "metadata": {},
     "output_type": "display_data"
    }
   ],
   "source": [
    "# plt.pie(kernel_stats['total_count'], labels=kernel_stats['library'])\n",
    "plt.pie(df['acc_id'], labels=df['tran_dt'])"
   ]
  },
  {
   "cell_type": "markdown",
   "metadata": {
    "collapsed": false
   },
   "source": [
    "Bar Label Demo"
   ]
  },
  {
   "cell_type": "code",
   "execution_count": 15,
   "id": "7b6fe1f7",
   "metadata": {},
   "outputs": [
    {
     "data": {
      "image/png": "[encoded data removed]",
      "text/plain": [
       "<Figure size 648x432 with 1 Axes>"
      ]
     },
     "metadata": {
      "needs_background": "light"
     },
     "output_type": "display_data"
    }
   ],
   "source": [
    "plt.figure(figsize=(9,6))\n",
    "plt.bar(x=df['tran_dt'], height=df['cust_id'], color='midnightblue')\n",
    "plt.xticks(rotation=45)\n",
    "plt.title('Transaction By Date')\n",
    "# Save figure\n",
    "# plt.savefig('Customer Transaction.png')\n",
    "plt.savefig('CustTran.pdf')"
   ]
  },
  {
   "cell_type": "code",
   "execution_count": 15,
   "metadata": {
    "collapsed": false
   },
   "outputs": [],
   "source": []
  }
 ],
 "metadata": {
  "kernelspec": {
   "display_name": "base",
   "language": "python",
   "name": "python3"
  },
  "language_info": {
   "codemirror_mode": {
    "name": "ipython",
    "version": 3
   },
   "file_extension": ".py",
   "mimetype": "text/x-python",
   "name": "python",
   "nbconvert_exporter": "python",
   "pygments_lexer": "ipython3",
   "version": "3.9.12 (main, Apr  4 2022, 05:22:27) [MSC v.1916 64 bit (AMD64)]"
  },
  "vscode": {
   "interpreter": {
    "hash": "be175dc15436e88f9e035e202fd2371f835444261fd48abea5192fbf0c4ca934"
   }
  }
 },
 "nbformat": 4,
 "nbformat_minor": 5
}
